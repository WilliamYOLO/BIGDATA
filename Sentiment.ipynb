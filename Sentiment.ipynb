{
 "cells": [
  {
   "cell_type": "code",
   "execution_count": null,
   "id": "69bf1f39",
   "metadata": {},
   "outputs": [
    {
     "name": "stdout",
     "output_type": "stream",
     "text": [
      "Defaulting to user installation because normal site-packages is not writeable\n",
      "Requirement already satisfied: requests in c:\\programdata\\anaconda3\\lib\\site-packages (2.32.3)\n",
      "Collecting zipfile36\n",
      "  Using cached zipfile36-0.1.3-py3-none-any.whl.metadata (736 bytes)\n",
      "Note: you may need to restart the kernel to use updated packages.\n"
     ]
    },
    {
     "name": "stderr",
     "output_type": "stream",
     "text": [
      "ERROR: Could not find a version that satisfies the requirement io (from versions: none)\n",
      "ERROR: No matching distribution found for io\n"
     ]
    }
   ],
   "source": []
  },
  {
   "cell_type": "code",
   "execution_count": 8,
   "id": "46923cc9",
   "metadata": {},
   "outputs": [
    {
     "name": "stdout",
     "output_type": "stream",
     "text": [
      "Attempting to download GDELT file for 20250921...\n",
      "File downloaded successfully.\n"
     ]
    },
    {
     "name": "stderr",
     "output_type": "stream",
     "text": [
      "C:\\Users\\jeanc\\AppData\\Local\\Temp\\ipykernel_38960\\2090589138.py:31: DtypeWarning: Columns (24) have mixed types. Specify dtype option on import or set low_memory=False.\n",
      "  df = pd.read_csv(zip_ref.open(csv_file_name), sep='\\t', header=None, encoding='ISO-8859-1')\n"
     ]
    },
    {
     "name": "stdout",
     "output_type": "stream",
     "text": [
      "Data loaded into DataFrame.\n",
      "\n",
      "Data successfully exported to 'gdelt_events_20250921.xlsx'.\n"
     ]
    }
   ],
   "source": [
    "import requests\n",
    "import zipfile\n",
    "import io\n",
    "import pandas as pd\n",
    "from datetime import date\n",
    "\n",
    "# Set the date for the file you want to download\n",
    "# Using a specific date that is known to be available\n",
    "# Change this date as needed, for example: date_to_download = date(2025, 9, 21)\n",
    "date_to_download = date(2025, 9, 21)\n",
    "date_str = date_to_download.strftime(\"%Y%m%d\")\n",
    "\n",
    "# Construct the URL\n",
    "url = f\"http://data.gdeltproject.org/events/{date_str}.export.CSV.zip\"\n",
    "print(f\"Attempting to download GDELT file for {date_str}...\")\n",
    "\n",
    "try:\n",
    "    # Download the compressed file\n",
    "    response = requests.get(url)\n",
    "    \n",
    "    # Check if the download was successful\n",
    "    if response.status_code == 200:\n",
    "        print(\"File downloaded successfully.\")\n",
    "        \n",
    "        # Read the zip content into memory\n",
    "        zip_content = io.BytesIO(response.content)\n",
    "        \n",
    "        # Decompress the CSV file and load into a pandas DataFrame\n",
    "        with zipfile.ZipFile(zip_content, 'r') as zip_ref:\n",
    "            csv_file_name = zip_ref.namelist()[0]\n",
    "            df = pd.read_csv(zip_ref.open(csv_file_name), sep='\\t', header=None, encoding='ISO-8859-1')\n",
    "        \n",
    "        print(\"Data loaded into DataFrame.\")\n",
    "        \n",
    "        # Define the Excel file name\n",
    "        excel_filename = f\"gdelt_events_{date_str}.xlsx\"\n",
    "        \n",
    "        # Export the DataFrame to an Excel file\n",
    "        df.to_excel(excel_filename, index=False)\n",
    "        \n",
    "        print(f\"\\nData successfully exported to '{excel_filename}'.\")\n",
    "    elif response.status_code == 404:\n",
    "        print(f\"Error 404: The file for {date_str} was not found on the GDELT server.\")\n",
    "        print(\"Possible reasons: The data has not been published yet or the date is incorrect.\")\n",
    "        print(\"Please check the GDELT data download page to confirm availability.\")\n",
    "    else:\n",
    "        print(f\"An unexpected error occurred with status code: {response.status_code}\")\n",
    "\n",
    "except requests.exceptions.RequestException as e:\n",
    "    print(f\"Network error: {e}\")\n",
    "except zipfile.BadZipFile:\n",
    "    print(\"The downloaded file is not a valid ZIP file.\")\n",
    "except Exception as e:\n",
    "    print(f\"An unexpected error occurred: {e}\")"
   ]
  },
  {
   "cell_type": "code",
   "execution_count": null,
   "id": "a19b74dc",
   "metadata": {},
   "outputs": [
    {
     "name": "stdout",
     "output_type": "stream",
     "text": [
      "Attempting to download GDELT data from 2025-09-16 to 2025-09-22...\n",
      "File for 20250916 downloaded successfully.\n"
     ]
    },
    {
     "name": "stderr",
     "output_type": "stream",
     "text": [
      "C:\\Users\\jeanc\\AppData\\Local\\Temp\\ipykernel_38960\\3199811446.py:40: DtypeWarning: Columns (24) have mixed types. Specify dtype option on import or set low_memory=False.\n",
      "  df = pd.read_csv(zip_ref.open(csv_file_name), sep='\\t', header=None, encoding='ISO-8859-1')\n"
     ]
    },
    {
     "name": "stdout",
     "output_type": "stream",
     "text": [
      "File for 20250917 downloaded successfully.\n",
      "File for 20250918 downloaded successfully.\n"
     ]
    },
    {
     "name": "stderr",
     "output_type": "stream",
     "text": [
      "C:\\Users\\jeanc\\AppData\\Local\\Temp\\ipykernel_38960\\3199811446.py:40: DtypeWarning: Columns (14,24) have mixed types. Specify dtype option on import or set low_memory=False.\n",
      "  df = pd.read_csv(zip_ref.open(csv_file_name), sep='\\t', header=None, encoding='ISO-8859-1')\n"
     ]
    },
    {
     "name": "stdout",
     "output_type": "stream",
     "text": [
      "File for 20250919 downloaded successfully.\n"
     ]
    },
    {
     "name": "stderr",
     "output_type": "stream",
     "text": [
      "C:\\Users\\jeanc\\AppData\\Local\\Temp\\ipykernel_38960\\3199811446.py:40: DtypeWarning: Columns (11,14,24) have mixed types. Specify dtype option on import or set low_memory=False.\n",
      "  df = pd.read_csv(zip_ref.open(csv_file_name), sep='\\t', header=None, encoding='ISO-8859-1')\n"
     ]
    },
    {
     "name": "stdout",
     "output_type": "stream",
     "text": [
      "File for 20250920 downloaded successfully.\n",
      "File for 20250921 downloaded successfully.\n"
     ]
    },
    {
     "name": "stderr",
     "output_type": "stream",
     "text": [
      "C:\\Users\\jeanc\\AppData\\Local\\Temp\\ipykernel_38960\\3199811446.py:40: DtypeWarning: Columns (24) have mixed types. Specify dtype option on import or set low_memory=False.\n",
      "  df = pd.read_csv(zip_ref.open(csv_file_name), sep='\\t', header=None, encoding='ISO-8859-1')\n"
     ]
    },
    {
     "name": "stdout",
     "output_type": "stream",
     "text": [
      "File for 20250922 downloaded successfully.\n",
      "\n",
      "Consolidating all downloaded data...\n"
     ]
    }
   ],
   "source": [
    "import requests\n",
    "import zipfile\n",
    "import io\n",
    "import pandas as pd\n",
    "from datetime import date, timedelta\n",
    "\n",
    "# List to store data from each day\n",
    "all_data = []\n",
    "\n",
    "# Get yesterday's date\n",
    "yesterday = date.today() - timedelta(days=1)\n",
    "# Calculate the date 7 days ago, relative to yesterday\n",
    "start_date = yesterday - timedelta(days=6)\n",
    "\n",
    "print(f\"Attempting to download GDELT data from {start_date} to {yesterday}...\")\n",
    "\n",
    "# Loop through the last 7 complete days (from 7 days ago until yesterday)\n",
    "for i in range(7):\n",
    "    # Calculate the date for the current iteration\n",
    "    current_date = start_date + timedelta(days=i)\n",
    "    date_str = current_date.strftime(\"%Y%m%d\")\n",
    "\n",
    "    # Construct the URL for the daily file\n",
    "    url = f\"http://data.gdeltproject.org/events/{date_str}.export.CSV.zip\"\n",
    "    \n",
    "    try:\n",
    "        # Download the compressed file\n",
    "        response = requests.get(url)\n",
    "\n",
    "        # Check if the download was successful\n",
    "        if response.status_code == 200:\n",
    "            print(f\"File for {date_str} downloaded successfully.\")\n",
    "            \n",
    "            # Read the zip content into memory\n",
    "            zip_content = io.BytesIO(response.content)\n",
    "            \n",
    "            # Decompress the CSV file and load into a pandas DataFrame\n",
    "            with zipfile.ZipFile(zip_content, 'r') as zip_ref:\n",
    "                csv_file_name = zip_ref.namelist()[0]\n",
    "                df = pd.read_csv(zip_ref.open(csv_file_name), sep='\\t', header=None, encoding='ISO-8859-1')\n",
    "            \n",
    "            # Add a column for the date to the DataFrame\n",
    "            df['Date'] = current_date\n",
    "            \n",
    "            # Append the DataFrame to the list\n",
    "            all_data.append(df)\n",
    "            \n",
    "        elif response.status_code == 404:\n",
    "            print(f\"Skipping {date_str}: The file was not found (Error 404). This is expected for today's data.\")\n",
    "        else:\n",
    "            print(f\"An unexpected error occurred for {date_str} with status code: {response.status_code}\")\n",
    "\n",
    "    except requests.exceptions.RequestException as e:\n",
    "        print(f\"Network error while downloading {date_str}: {e}\")\n",
    "    except zipfile.BadZipFile:\n",
    "        print(f\"The downloaded file for {date_str} is not a valid ZIP file.\")\n",
    "    except Exception as e:\n",
    "        print(f\"An unexpected error occurred while processing {date_str}: {e}\")\n",
    "\n",
    "# Check if any data was downloaded\n",
    "if all_data:\n",
    "    print(\"\\nConsolidating all downloaded data...\")\n",
    "    # Concatenate all DataFrames into a single one\n",
    "    final_df = pd.concat(all_data, ignore_index=True)\n",
    "    \n",
    "    # Define the Excel file name\n",
    "    excel_filename = \"gdelt_events_last_7_complete_days.xlsx\"\n",
    "    \n",
    "    try:\n",
    "        # Export the final DataFrame to an Excel file\n",
    "        final_df.to_excel(excel_filename, index=False)\n",
    "        print(f\"\\nData successfully exported to '{excel_filename}'.\")\n",
    "    except Exception as e:\n",
    "        print(f\"An error occurred while exporting to Excel: {e}\")\n",
    "else:\n",
    "    print(\"\\nNo data was downloaded. The Excel file was not created.\")"
   ]
  },
  {
   "cell_type": "code",
   "execution_count": null,
   "id": "428c4537",
   "metadata": {},
   "outputs": [],
   "source": []
  }
 ],
 "metadata": {
  "kernelspec": {
   "display_name": "base",
   "language": "python",
   "name": "python3"
  },
  "language_info": {
   "codemirror_mode": {
    "name": "ipython",
    "version": 3
   },
   "file_extension": ".py",
   "mimetype": "text/x-python",
   "name": "python",
   "nbconvert_exporter": "python",
   "pygments_lexer": "ipython3",
   "version": "3.13.5"
  }
 },
 "nbformat": 4,
 "nbformat_minor": 5
}
